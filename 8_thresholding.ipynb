{
 "cells": [
  {
   "cell_type": "markdown",
   "id": "6be74fdd",
   "metadata": {},
   "source": [
    "<li>used to create a binary image from a grayscale image </li>\n",
    "<li>based on a threshold value</li>\n",
    "<li> used in image segmentation tasks to separate objects or regions of interest from the background.</li>\n",
    "<li><b>Global Thresholding:</b> A single threshold value is applied to the entire image.</li>\n",
    "<li><b>Adaptive Thresholding:</b> Different threshold values are applied to different regions of the image, based on local neighborhoods.</li>\n",
    "<li><b>Otsu's Thresholding:</b> Automatically calculates an optimal threshold value based on the image histogram.</li>"
   ]
  },
  {
   "cell_type": "code",
   "execution_count": 11,
   "id": "da402368",
   "metadata": {},
   "outputs": [],
   "source": [
    "import cv2\n",
    "import numpy as np \n",
    "\n",
    "img=cv2.imread('data/gradient.jpg',0)\n",
    "\n",
    "cv2.imshow('frame',img)\n",
    "cv2.waitKey(0)\n",
    "cv2.destroyAllWindows()"
   ]
  },
  {
   "cell_type": "markdown",
   "id": "81a9c836",
   "metadata": {},
   "source": [
    "### binary"
   ]
  },
  {
   "cell_type": "code",
   "execution_count": 13,
   "id": "3894d67a",
   "metadata": {},
   "outputs": [],
   "source": [
    "#(source, threshod,max,threshold type)\n",
    "_,th1=cv2.threshold(img,127,255,cv2.THRESH_BINARY)\n",
    "#two outs 1.ret 2.Binary Image:\n",
    "cv2.imshow('frame',img)\n",
    "cv2.imshow('thre',th1)\n",
    "cv2.waitKey(0)\n",
    "cv2.destroyAllWindows()"
   ]
  },
  {
   "cell_type": "markdown",
   "id": "1489fbd6",
   "metadata": {},
   "source": [
    "### binary inverse"
   ]
  },
  {
   "cell_type": "code",
   "execution_count": 14,
   "id": "02e58175",
   "metadata": {},
   "outputs": [],
   "source": [
    "\n",
    "_,th1=cv2.threshold(img,127,255,cv2.THRESH_BINARY_INV)\n",
    "cv2.imshow('frame',img)\n",
    "cv2.imshow('thre',th1)\n",
    "cv2.waitKey(0)\n",
    "cv2.destroyAllWindows()"
   ]
  },
  {
   "cell_type": "markdown",
   "id": "384e0f56",
   "metadata": {},
   "source": [
    " ### truncation thresholding method"
   ]
  },
  {
   "cell_type": "code",
   "execution_count": 15,
   "id": "66f42a74",
   "metadata": {},
   "outputs": [],
   "source": [
    "\n",
    "_,th1=cv2.threshold(img,127,255,cv2.THRESH_TRUNC)\n",
    "cv2.imshow('frame',img)\n",
    "cv2.imshow('thre',th1)\n",
    "cv2.waitKey(0)\n",
    "cv2.destroyAllWindows()"
   ]
  },
  {
   "cell_type": "markdown",
   "id": "43253ca3",
   "metadata": {},
   "source": [
    "cv2.THRESH_TOZERO <br>\n",
    "cv2.THRESH_TOZERO_INV\n",
    "\n",
    "all above we used global value\n",
    "  _,th1=cv2.threshold(img,127,255,cv2.THRESH_TRUNC)\n",
    "  127\n",
    " \n",
    "we can use local also\n"
   ]
  },
  {
   "cell_type": "code",
   "execution_count": null,
   "id": "732b64b0",
   "metadata": {},
   "outputs": [],
   "source": []
  },
  {
   "cell_type": "code",
   "execution_count": null,
   "id": "3dbee7fe",
   "metadata": {},
   "outputs": [],
   "source": []
  },
  {
   "cell_type": "code",
   "execution_count": null,
   "id": "9fcbf4f3",
   "metadata": {},
   "outputs": [],
   "source": []
  },
  {
   "cell_type": "code",
   "execution_count": 18,
   "id": "30886bce",
   "metadata": {},
   "outputs": [],
   "source": [
    "img=cv2.imread('data/sudoku.jpg',0)\n",
    "_,th1=cv2.threshold(img,127,255,cv2.THRESH_BINARY)\n",
    "cv2.imshow('frame',img)\n",
    "cv2.imshow('thre',th1)\n",
    "cv2.waitKey(0)\n",
    "cv2.destroyAllWindows()"
   ]
  },
  {
   "cell_type": "markdown",
   "id": "816070da",
   "metadata": {},
   "source": [
    "### adaptive thresholding\n",
    "need bcs :image may have different lighting conds at various region"
   ]
  },
  {
   "cell_type": "markdown",
   "id": "a1a5c81b",
   "metadata": {},
   "source": [
    "ADAPTIVE_THRESH_MEAN_C: In this method, the threshold value for each pixel is calculated as the mean of the neighborhood area around that pixel. The size of the neighborhood area is specified by the blockSize parameter. This method works well for images with relatively<b> uniform illumination.</b>\n",
    "ADAPTIVE_THRESH_GAUSSIAN_C: In this method, instead of taking the mean of the neighborhood area, a weighted sum (using Gaussian weights) is calculated for the neighborhood area around each pixel. The size of the neighborhood area and the standard deviation of the Gaussian kernel are specified by the blockSize and C parameters, respectively. This method is more robust to noise and works better for images with <b>uneven illumination or noise</b>."
   ]
  },
  {
   "cell_type": "code",
   "execution_count": 27,
   "id": "d7bede1e",
   "metadata": {},
   "outputs": [],
   "source": [
    "#(src,max,adaptive_methos,threshold type,block_size,c) c is subtracted from mean \n",
    "\n",
    "img=cv2.imread('data/sudoku.jpg',0)\n",
    "th1=cv2.adaptiveThreshold(img,255,cv2.ADAPTIVE_THRESH_MEAN_C,cv2.THRESH_BINARY,11,2)\n",
    "cv2.imshow('frame',img)\n",
    "cv2.imshow('thre',th1)\n",
    "cv2.waitKey(0)\n",
    "cv2.destroyAllWindows()"
   ]
  },
  {
   "cell_type": "code",
   "execution_count": 28,
   "id": "7d6c6a6e",
   "metadata": {},
   "outputs": [],
   "source": [
    "img=cv2.imread('data/sudoku.jpg',0)\n",
    "th1=cv2.adaptiveThreshold(img,255,cv2.ADAPTIVE_THRESH_GAUSSIAN_C,cv2.THRESH_BINARY,11,2)\n",
    "cv2.imshow('frame',img)\n",
    "cv2.imshow('thre',th1)\n",
    "cv2.waitKey(0)\n",
    "cv2.destroyAllWindows()"
   ]
  },
  {
   "cell_type": "code",
   "execution_count": null,
   "id": "f6c2b06a",
   "metadata": {},
   "outputs": [],
   "source": []
  },
  {
   "cell_type": "code",
   "execution_count": null,
   "id": "66bc2e4d",
   "metadata": {},
   "outputs": [],
   "source": []
  },
  {
   "cell_type": "code",
   "execution_count": null,
   "id": "78f787ff",
   "metadata": {},
   "outputs": [],
   "source": []
  },
  {
   "cell_type": "code",
   "execution_count": null,
   "id": "697f4e72",
   "metadata": {},
   "outputs": [],
   "source": []
  },
  {
   "cell_type": "code",
   "execution_count": null,
   "id": "edb3746f",
   "metadata": {},
   "outputs": [],
   "source": []
  },
  {
   "cell_type": "code",
   "execution_count": null,
   "id": "5f51c803",
   "metadata": {},
   "outputs": [],
   "source": []
  },
  {
   "cell_type": "code",
   "execution_count": null,
   "id": "7a5f3f44",
   "metadata": {},
   "outputs": [],
   "source": []
  }
 ],
 "metadata": {
  "kernelspec": {
   "display_name": "Python 3 (ipykernel)",
   "language": "python",
   "name": "python3"
  },
  "language_info": {
   "codemirror_mode": {
    "name": "ipython",
    "version": 3
   },
   "file_extension": ".py",
   "mimetype": "text/x-python",
   "name": "python",
   "nbconvert_exporter": "python",
   "pygments_lexer": "ipython3",
   "version": "3.10.9"
  }
 },
 "nbformat": 4,
 "nbformat_minor": 5
}
