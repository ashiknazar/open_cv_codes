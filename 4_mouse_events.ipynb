{
 "cells": [
  {
   "cell_type": "markdown",
   "id": "55cd83ac",
   "metadata": {},
   "source": [
    "### mouse events"
   ]
  },
  {
   "cell_type": "code",
   "execution_count": 2,
   "id": "f95a59cc",
   "metadata": {},
   "outputs": [],
   "source": [
    "import cv2\n",
    "import numpy as np"
   ]
  },
  {
   "cell_type": "code",
   "execution_count": 3,
   "id": "7039ad1b",
   "metadata": {
    "scrolled": true
   },
   "outputs": [
    {
     "name": "stdout",
     "output_type": "stream",
     "text": [
      "['EVENT_FLAG_ALTKEY', 'EVENT_FLAG_CTRLKEY', 'EVENT_FLAG_LBUTTON', 'EVENT_FLAG_MBUTTON', 'EVENT_FLAG_RBUTTON', 'EVENT_FLAG_SHIFTKEY', 'EVENT_LBUTTONDBLCLK', 'EVENT_LBUTTONDOWN', 'EVENT_LBUTTONUP', 'EVENT_MBUTTONDBLCLK', 'EVENT_MBUTTONDOWN', 'EVENT_MBUTTONUP', 'EVENT_MOUSEHWHEEL', 'EVENT_MOUSEMOVE', 'EVENT_MOUSEWHEEL', 'EVENT_RBUTTONDBLCLK', 'EVENT_RBUTTONDOWN', 'EVENT_RBUTTONUP']\n"
     ]
    }
   ],
   "source": [
    "events=[i for i in dir(cv2) if 'EVENT' in i]\n",
    "print(events)"
   ]
  },
  {
   "cell_type": "code",
   "execution_count": 4,
   "id": "e5190619",
   "metadata": {},
   "outputs": [],
   "source": [
    "def click_event(event,x,y,flags,param):\n",
    "    if event ==cv2.EVENT_LBUTTONDOWN:\n",
    "        font=cv2.FONT_HERSHEY_SIMPLEX\n",
    "        stri=str(x)+\" \"+str(y)\n",
    "        cv2.putText(img,stri,(x,y),font,0.5,(255,255,0),2)\n",
    "        cv2.imshow('img',img)\n",
    "\n",
    "img=np.zeros((550,550,3),np.uint8)\n",
    "cv2.imshow('img',img)\n",
    "\n",
    "cv2.setMouseCallback('img',click_event)\n",
    "cv2.waitKey(0) & 0xFF\n",
    "cv2.destroyAllWindows()\n"
   ]
  },
  {
   "cell_type": "raw",
   "id": "e5c02a1c",
   "metadata": {},
   "source": [
    "#for color channels\n",
    "clicked at pixel point x,y ->to show colr channel at that x,y point\n",
    "blue=[y,x,0]\n",
    "green=[y,x,1]\n",
    "red=[y,x,2]"
   ]
  },
  {
   "cell_type": "code",
   "execution_count": null,
   "id": "dbb50a39",
   "metadata": {},
   "outputs": [],
   "source": []
  }
 ],
 "metadata": {
  "kernelspec": {
   "display_name": "Python 3 (ipykernel)",
   "language": "python",
   "name": "python3"
  },
  "language_info": {
   "codemirror_mode": {
    "name": "ipython",
    "version": 3
   },
   "file_extension": ".py",
   "mimetype": "text/x-python",
   "name": "python",
   "nbconvert_exporter": "python",
   "pygments_lexer": "ipython3",
   "version": "3.10.9"
  }
 },
 "nbformat": 4,
 "nbformat_minor": 5
}
