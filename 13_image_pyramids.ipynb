{
 "cells": [
  {
   "cell_type": "markdown",
   "id": "ba328fdc",
   "metadata": {},
   "source": [
    "### Guassian pyramids\n",
    "pyrDown  <br>\n",
    "pyrUp ->losed information cambaring "
   ]
  },
  {
   "cell_type": "code",
   "execution_count": 1,
   "id": "d191eba7",
   "metadata": {},
   "outputs": [],
   "source": [
    "import cv2\n",
    "img=cv2.imread(\"data/kris.jpg\",1)\n",
    "lr=cv2.pyrDown(img)\n",
    "hr=cv2.pyrUp(lr)\n",
    "\n",
    "cv2.imshow('orig',img)\n",
    "cv2.imshow('pyr_down',lr)\n",
    "cv2.imshow('pyr_up',hr)\n",
    "cv2.waitKey(0)\n",
    "cv2.destroyAllWindows()"
   ]
  },
  {
   "cell_type": "code",
   "execution_count": null,
   "id": "afac85d4",
   "metadata": {},
   "outputs": [],
   "source": []
  },
  {
   "cell_type": "code",
   "execution_count": 1,
   "id": "e2f1a0bf",
   "metadata": {},
   "outputs": [],
   "source": [
    "import cv2\n",
    "import numpy as np\n"
   ]
  },
  {
   "cell_type": "code",
   "execution_count": 2,
   "id": "12e41cb8",
   "metadata": {},
   "outputs": [],
   "source": [
    "img=cv2.imread(\"data/kris.jpg\",1)"
   ]
  },
  {
   "cell_type": "code",
   "execution_count": 3,
   "id": "c3f72567",
   "metadata": {},
   "outputs": [],
   "source": [
    "cv2.imshow('frame',img)\n",
    "cv2.waitKey(0)\n",
    "cv2.destroyAllWindows()"
   ]
  },
  {
   "cell_type": "code",
   "execution_count": 4,
   "id": "151b83a9",
   "metadata": {},
   "outputs": [],
   "source": [
    "layer=img.copy()\n",
    "gp=[layer]"
   ]
  },
  {
   "cell_type": "code",
   "execution_count": 5,
   "id": "e7ae3024",
   "metadata": {},
   "outputs": [],
   "source": [
    "for i in range(6):\n",
    "    layer=cv2.pyrDown(layer)\n",
    "    gp.append(layer)\n",
    "    cv2.imshow(str(i),layer)\n",
    "cv2.imshow(\"org\",img)\n",
    "cv2.waitKey(0)\n",
    "cv2.destroyAllWindows()"
   ]
  },
  {
   "cell_type": "markdown",
   "id": "40cb688e",
   "metadata": {},
   "source": [
    "### Laplacian pyramids\n",
    "are formed from gaussian pyramids<br>\n",
    "\n",
    " The Laplacian pyramid is constructed by taking the difference between each level of the Gaussian pyramid and the upsampled version of the next lower level in the Gaussian pyramid. This difference image captures the high-frequency details present in the original image."
   ]
  },
  {
   "cell_type": "code",
   "execution_count": 6,
   "id": "169e2e17",
   "metadata": {},
   "outputs": [],
   "source": [
    "from matplotlib import pyplot as plt"
   ]
  },
  {
   "cell_type": "code",
   "execution_count": 7,
   "id": "a1b9083b",
   "metadata": {},
   "outputs": [],
   "source": [
    "import cv2\n",
    "\n",
    "# Read the image\n",
    "img = cv2.imread(\"data/kris.jpg\",1)\n",
    "\n",
    "# Construct Gaussian pyramid\n",
    "G = img.copy()\n",
    "gp = [G]\n",
    "for i in range(6):\n",
    "    G = cv2.pyrDown(G)\n",
    "    gp.append(G)\n",
    "\n",
    "# Upsample the last level of Gaussian pyramid\n",
    "GE = cv2.pyrUp(gp[5])\n",
    "\n",
    "# Subtract the upsampled image from the next level of Gaussian pyramid\n",
    "L = cv2.subtract(gp[4], GE)\n",
    "\n",
    "# Display the original image\n",
    "cv2.imshow('Original Image', img)\n",
    "\n",
    "# Display the upsampled image\n",
    "cv2.imshow('Upsampled Image', GE)\n",
    "\n",
    "# Display the Laplacian image\n",
    "cv2.imshow('Laplacian Image', L)\n",
    "\n",
    "cv2.waitKey(0) & 0xFF\n",
    "cv2.destroyAllWindows()\n"
   ]
  },
  {
   "cell_type": "code",
   "execution_count": null,
   "id": "fa412f31",
   "metadata": {},
   "outputs": [],
   "source": []
  }
 ],
 "metadata": {
  "kernelspec": {
   "display_name": "base",
   "language": "python",
   "name": "python3"
  },
  "language_info": {
   "codemirror_mode": {
    "name": "ipython",
    "version": 3
   },
   "file_extension": ".py",
   "mimetype": "text/x-python",
   "name": "python",
   "nbconvert_exporter": "python",
   "pygments_lexer": "ipython3",
   "version": "3.12.7"
  }
 },
 "nbformat": 4,
 "nbformat_minor": 5
}
