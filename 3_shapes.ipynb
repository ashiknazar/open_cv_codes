{
 "cells": [
  {
   "cell_type": "code",
   "execution_count": 1,
   "id": "c8f1bd10",
   "metadata": {},
   "outputs": [],
   "source": [
    "import cv2"
   ]
  },
  {
   "cell_type": "markdown",
   "id": "51c21d33",
   "metadata": {},
   "source": [
    "## line"
   ]
  },
  {
   "cell_type": "code",
   "execution_count": 3,
   "id": "a3334a9f",
   "metadata": {},
   "outputs": [],
   "source": [
    "#(point1,point2,color,thickness)\n",
    "img=cv2.imread('data/kris.jpg',1)\n",
    "img=cv2.line(img,(0,0),(0,255),(255,0,0),3)\n",
    "cv2.imshow('fram',img)\n",
    "cv2.waitKey(0)\n",
    "cv2.destroyAllWindows()"
   ]
  },
  {
   "cell_type": "markdown",
   "id": "2f3cf085",
   "metadata": {},
   "source": [
    "## arrowedLine"
   ]
  },
  {
   "cell_type": "code",
   "execution_count": 5,
   "id": "79174ed2",
   "metadata": {},
   "outputs": [],
   "source": [
    "#(point1,point2,color,thickness)\n",
    "img=cv2.imread('data/kris.jpg',1)\n",
    "img=cv2.arrowedLine(img,(0,0),(255,255),(255,0,0),3)\n",
    "\n",
    "cv2.imshow('fram',img)\n",
    "cv2.waitKey(0)\n",
    "cv2.destroyAllWindows()"
   ]
  },
  {
   "cell_type": "markdown",
   "id": "2b511cb5",
   "metadata": {},
   "source": [
    "## rectangle"
   ]
  },
  {
   "cell_type": "code",
   "execution_count": 6,
   "id": "c7e9358c",
   "metadata": {},
   "outputs": [],
   "source": [
    "img=cv2.imread('data/kris.jpg',1)\n",
    "img=cv2.rectangle(img,(0,0),(255,255),(255,0,0),3)\n",
    "cv2.imshow('fram',img)\n",
    "cv2.waitKey(0)\n",
    "cv2.destroyAllWindows()"
   ]
  },
  {
   "cell_type": "code",
   "execution_count": 7,
   "id": "98996109",
   "metadata": {},
   "outputs": [],
   "source": [
    "#filled by thickness=-1\n",
    "#img=cv2.rectangle(img,(0,0),(255,255),(255,0,0),-1)"
   ]
  },
  {
   "cell_type": "code",
   "execution_count": 8,
   "id": "622a37de",
   "metadata": {},
   "outputs": [],
   "source": [
    "#circlce \n",
    "#(center,radius,color,thickness)\n",
    "img=cv2.imread('data/kris.jpg',1)\n",
    "img=cv2.circle(img,(33,44),12,(0,255,0),-1)\n",
    "cv2.imshow('fram',img)\n",
    "cv2.waitKey(0)\n",
    "cv2.destroyAllWindows()"
   ]
  },
  {
   "cell_type": "markdown",
   "id": "b852c1ad",
   "metadata": {},
   "source": [
    "## text print"
   ]
  },
  {
   "cell_type": "code",
   "execution_count": 14,
   "id": "7968a0d4",
   "metadata": {},
   "outputs": [],
   "source": [
    "img=cv2.imread('data/kris.jpg',1)\n",
    "font=cv2.FONT_HERSHEY_SIMPLEX\n",
    "img=cv2.putText(img,'OpenCV',(10,540),font,4,(0,0,255),3,cv2.LINE_AA)\n",
    "cv2.imshow(\"img\",img)\n",
    "cv2.waitKey(0)\n",
    "cv2.destroyAllWindows()"
   ]
  },
  {
   "cell_type": "markdown",
   "id": "340e392a",
   "metadata": {},
   "source": [
    "## random no to image"
   ]
  },
  {
   "cell_type": "code",
   "execution_count": 21,
   "id": "60b3e7d2",
   "metadata": {},
   "outputs": [
    {
     "name": "stdout",
     "output_type": "stream",
     "text": [
      "(566, 512)\n"
     ]
    }
   ],
   "source": [
    "import numpy as np\n",
    "\n",
    "img=cv2.imread('data/kris.jpg',0)\n",
    "mask=np.random.randint(0,255,size=(img.shape),dtype=np.uint8)\n",
    "\n",
    "cv2.imshow('mask',mask)\n",
    "cv2.waitKey(0) & 0xFF\n",
    "cv2.destroyAllWindows()"
   ]
  },
  {
   "cell_type": "code",
   "execution_count": null,
   "id": "8de517db",
   "metadata": {},
   "outputs": [],
   "source": []
  }
 ],
 "metadata": {
  "kernelspec": {
   "display_name": "Python 3 (ipykernel)",
   "language": "python",
   "name": "python3"
  },
  "language_info": {
   "codemirror_mode": {
    "name": "ipython",
    "version": 3
   },
   "file_extension": ".py",
   "mimetype": "text/x-python",
   "name": "python",
   "nbconvert_exporter": "python",
   "pygments_lexer": "ipython3",
   "version": "3.10.9"
  }
 },
 "nbformat": 4,
 "nbformat_minor": 5
}
