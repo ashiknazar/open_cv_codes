{
 "cells": [
  {
   "cell_type": "markdown",
   "id": "9b71108e",
   "metadata": {},
   "source": [
    "1.split <br>\n",
    "2.merge <br>\n",
    "3.slice image<br>\n",
    "4.resize image <br>\n",
    "5.add images<br>\n",
    "6.add weighted on images<br>\n",
    "7.bitwise operations<br>"
   ]
  },
  {
   "cell_type": "code",
   "execution_count": 29,
   "id": "23c2f557",
   "metadata": {},
   "outputs": [],
   "source": [
    "import cv2\n",
    "img=cv2.imread(\"data/kris.jpg\")"
   ]
  },
  {
   "cell_type": "code",
   "execution_count": 3,
   "id": "04e55bfd",
   "metadata": {},
   "outputs": [
    {
     "name": "stdout",
     "output_type": "stream",
     "text": [
      "(566, 512, 3)\n"
     ]
    }
   ],
   "source": [
    "print(img.shape)"
   ]
  },
  {
   "cell_type": "code",
   "execution_count": 5,
   "id": "e200efbd",
   "metadata": {},
   "outputs": [
    {
     "name": "stdout",
     "output_type": "stream",
     "text": [
      "869376\n"
     ]
    }
   ],
   "source": [
    "print(img.size)"
   ]
  },
  {
   "cell_type": "code",
   "execution_count": 6,
   "id": "5b533304",
   "metadata": {},
   "outputs": [
    {
     "data": {
      "text/plain": [
       "dtype('uint8')"
      ]
     },
     "execution_count": 6,
     "metadata": {},
     "output_type": "execute_result"
    }
   ],
   "source": [
    "img.dtype"
   ]
  },
  {
   "cell_type": "code",
   "execution_count": 11,
   "id": "b2729e5c",
   "metadata": {},
   "outputs": [],
   "source": [
    "b,g,r=cv2.split(img)"
   ]
  },
  {
   "cell_type": "code",
   "execution_count": 13,
   "id": "eafd270d",
   "metadata": {},
   "outputs": [],
   "source": [
    "img=cv2.merge((b,g,r))"
   ]
  },
  {
   "cell_type": "code",
   "execution_count": 16,
   "id": "d2c45aee",
   "metadata": {},
   "outputs": [],
   "source": [
    "cv2.imshow('img',img)\n",
    "cv2.waitKey(0)\n",
    "cv2.destroyAllWindows()"
   ]
  },
  {
   "cell_type": "markdown",
   "id": "21ab693b",
   "metadata": {},
   "source": [
    "### region of interest"
   ]
  },
  {
   "cell_type": "markdown",
   "id": "48e466d9",
   "metadata": {},
   "source": [
    "1.get the coordinates of sub"
   ]
  },
  {
   "cell_type": "code",
   "execution_count": 17,
   "id": "e33aea6d",
   "metadata": {},
   "outputs": [
    {
     "name": "stdout",
     "output_type": "stream",
     "text": [
      "[(201, 166), (261, 200)]\n"
     ]
    }
   ],
   "source": [
    "def click_event(event,x,y,flags,param):\n",
    "    if event==cv2.EVENT_LBUTTONDOWN:\n",
    "        points.append((x,y))\n",
    "        \n",
    "        \n",
    "points=[]   \n",
    "cv2.imshow('img',img)\n",
    "cv2.setMouseCallback('img',click_event)\n",
    "cv2.waitKey(0) & 0xFF\n",
    "cv2.destroyAllWindows()\n",
    "print(points)"
   ]
  },
  {
   "cell_type": "markdown",
   "id": "6491cab2",
   "metadata": {},
   "source": [
    "### The correct way to slice an image is [start_y:end_y, start_x:end_x]"
   ]
  },
  {
   "cell_type": "code",
   "execution_count": 41,
   "id": "ada68456",
   "metadata": {},
   "outputs": [],
   "source": [
    "import cv2\n",
    "img = cv2.imread(\"data/kris.jpg\")\n",
    "imgi = img[166:200, 201:261]  # Corrected indices\n",
    "cv2.imshow('img', imgi)\n",
    "cv2.waitKey(0)\n",
    "cv2.destroyAllWindows()\n"
   ]
  },
  {
   "cell_type": "markdown",
   "id": "8343d30d",
   "metadata": {},
   "source": [
    "replace a part of image"
   ]
  },
  {
   "cell_type": "code",
   "execution_count": 42,
   "id": "71567fc0",
   "metadata": {},
   "outputs": [],
   "source": [
    "img[0:34,0:60]=imgi\n",
    "cv2.imshow('img', img)\n",
    "cv2.waitKey(0)\n",
    "cv2.destroyAllWindows()\n"
   ]
  },
  {
   "cell_type": "code",
   "execution_count": 43,
   "id": "88c61b74",
   "metadata": {},
   "outputs": [],
   "source": [
    "img=cv2.imread(\"data/kris.jpg\",1)\n",
    "img2=cv2.imread(\"data/logo.png\",1)"
   ]
  },
  {
   "cell_type": "code",
   "execution_count": 47,
   "id": "e39cf611",
   "metadata": {},
   "outputs": [
    {
     "data": {
      "text/plain": [
       "(225, 225, 3)"
      ]
     },
     "execution_count": 47,
     "metadata": {},
     "output_type": "execute_result"
    }
   ],
   "source": [
    "img2.shape"
   ]
  },
  {
   "cell_type": "markdown",
   "id": "4575db3d",
   "metadata": {},
   "source": [
    "### resize images"
   ]
  },
  {
   "cell_type": "code",
   "execution_count": 51,
   "id": "5aceed49",
   "metadata": {},
   "outputs": [],
   "source": [
    "img2 = cv2.resize(img2, (img.shape[1],img.shape[0]), interpolation=cv2.INTER_AREA)"
   ]
  },
  {
   "cell_type": "code",
   "execution_count": 54,
   "id": "96563244",
   "metadata": {},
   "outputs": [],
   "source": [
    "cv2.imshow('img',img2)\n",
    "cv2.waitKey(0)\n",
    "cv2.destroyAllWindows()"
   ]
  },
  {
   "cell_type": "markdown",
   "id": "9c4db81c",
   "metadata": {},
   "source": [
    "### add images"
   ]
  },
  {
   "cell_type": "code",
   "execution_count": 58,
   "id": "17870142",
   "metadata": {},
   "outputs": [],
   "source": [
    "img1=cv2.add(img,img2)\n",
    "cv2.imshow('img',img1)\n",
    "cv2.waitKey(0)\n",
    "cv2.destroyAllWindows()"
   ]
  },
  {
   "cell_type": "markdown",
   "id": "fe13d99a",
   "metadata": {},
   "source": [
    "### add weighted image"
   ]
  },
  {
   "cell_type": "code",
   "execution_count": 60,
   "id": "8711ae3e",
   "metadata": {},
   "outputs": [],
   "source": [
    "#(img1,weight1,img2,weight2,scaling val,)\n",
    "imgg=cv2.addWeighted(img,.9,img2,.1,0)\n",
    "cv2.imshow('img',imgg)\n",
    "cv2.waitKey(0)\n",
    "cv2.destroyAllWindows()"
   ]
  },
  {
   "cell_type": "markdown",
   "id": "f5d0d7b0",
   "metadata": {},
   "source": [
    "### creation of black and weight images"
   ]
  },
  {
   "cell_type": "code",
   "execution_count": 63,
   "id": "307dc2f1",
   "metadata": {},
   "outputs": [],
   "source": [
    "img=cv2.imread(\"data/aspect.png\",1)"
   ]
  },
  {
   "cell_type": "code",
   "execution_count": 64,
   "id": "3132d1f2",
   "metadata": {},
   "outputs": [],
   "source": [
    "cv2.imshow('img',img)\n",
    "cv2.waitKey(0)\n",
    "cv2.destroyAllWindows()"
   ]
  },
  {
   "cell_type": "code",
   "execution_count": 67,
   "id": "c105a2d7",
   "metadata": {},
   "outputs": [],
   "source": [
    "width = 640\n",
    "height = 480\n",
    "\n",
    "image = np.zeros((height, width, 3), dtype=np.uint8)\n",
    "\n",
    "# Define the width for the split between black and white\n",
    "split_width = width // 2\n",
    "\n",
    "# Set the left half to black\n",
    "image[:, :split_width] = [0, 0, 0]\n",
    "\n",
    "# Set the right half to white\n",
    "image[:, split_width:] = [255, 255, 255]\n",
    "cv2.imwrite(\"data/bw.jpg\", image)\n",
    "# Display or save the image\n",
    "cv2.imshow(\"Black and White Image\", image)\n",
    "cv2.waitKey(0)\n",
    "cv2.destroyAllWindows()\n"
   ]
  },
  {
   "cell_type": "markdown",
   "id": "f2d7ceb9",
   "metadata": {},
   "source": [
    "### creation of black and weight images"
   ]
  },
  {
   "cell_type": "code",
   "execution_count": 70,
   "id": "4ec01cb1",
   "metadata": {},
   "outputs": [],
   "source": [
    "import numpy as np\n",
    "import cv2\n",
    "\n",
    "# Define image dimensions\n",
    "width = 640\n",
    "height = 480\n",
    "\n",
    "# Create a blank image with black background\n",
    "image = np.zeros((height, width, 3), dtype=np.uint8)\n",
    "\n",
    "# Calculate the coordinates for the square\n",
    "square_width = 200\n",
    "square_height = 200\n",
    "x_start = (width - square_width) // 2\n",
    "x_end = x_start + square_width\n",
    "y_start = (height - square_height) // 2\n",
    "y_end = y_start + square_height\n",
    "\n",
    "# Set the square region to white\n",
    "image[y_start:y_end, x_start:x_end] = [255, 255, 255]\n",
    "\n",
    "cv2.imwrite(\"data/bws.jpg\", image)\n",
    "# Display or save the image\n",
    "cv2.imshow(\"Image with White Square\", image)\n",
    "cv2.waitKey(0)\n",
    "cv2.destroyAllWindows()\n"
   ]
  },
  {
   "cell_type": "markdown",
   "id": "ab96c849",
   "metadata": {},
   "source": [
    "### bitwise operations"
   ]
  },
  {
   "cell_type": "code",
   "execution_count": 74,
   "id": "2c3d134c",
   "metadata": {},
   "outputs": [],
   "source": [
    "img1=cv2.imread(\"data/bw.jpg\",-1)\n",
    "img2=cv2.imread(\"data/bws.jpg\",-1)"
   ]
  },
  {
   "cell_type": "code",
   "execution_count": 77,
   "id": "b0443ebf",
   "metadata": {},
   "outputs": [],
   "source": [
    "bitand=cv2.bitwise_and(img1,img2)"
   ]
  },
  {
   "cell_type": "code",
   "execution_count": 79,
   "id": "786dd03a",
   "metadata": {},
   "outputs": [],
   "source": [
    "cv2.imshow(\"Imag1\", img1)\n",
    "cv2.imshow(\"Imag 2\", img2)\n",
    "cv2.imshow(\"Image with White Square\", bitand)\n",
    "cv2.waitKey(0)\n",
    "cv2.destroyAllWindows()"
   ]
  },
  {
   "cell_type": "code",
   "execution_count": 80,
   "id": "0cd82ede",
   "metadata": {},
   "outputs": [],
   "source": [
    "#similarly bitwise_or,bitwise_xor,bitwise_not"
   ]
  },
  {
   "cell_type": "code",
   "execution_count": null,
   "id": "fd32ccb3",
   "metadata": {},
   "outputs": [],
   "source": []
  },
  {
   "cell_type": "code",
   "execution_count": null,
   "id": "5c8080f4",
   "metadata": {},
   "outputs": [],
   "source": []
  },
  {
   "cell_type": "code",
   "execution_count": null,
   "id": "d237de67",
   "metadata": {},
   "outputs": [],
   "source": []
  }
 ],
 "metadata": {
  "kernelspec": {
   "display_name": "Python 3 (ipykernel)",
   "language": "python",
   "name": "python3"
  },
  "language_info": {
   "codemirror_mode": {
    "name": "ipython",
    "version": 3
   },
   "file_extension": ".py",
   "mimetype": "text/x-python",
   "name": "python",
   "nbconvert_exporter": "python",
   "pygments_lexer": "ipython3",
   "version": "3.10.9"
  }
 },
 "nbformat": 4,
 "nbformat_minor": 5
}
