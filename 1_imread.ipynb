{
 "cells": [
  {
   "cell_type": "markdown",
   "id": "814e5e80",
   "metadata": {},
   "source": [
    "[imread  and imwrite](#target)"
   ]
  },
  {
   "cell_type": "markdown",
   "id": "c4788931",
   "metadata": {},
   "source": [
    "[read And write conditioned by pressed key](#targetss)"
   ]
  },
  {
   "cell_type": "markdown",
   "id": "107a4cd7",
   "metadata": {},
   "source": [
    "<a id=\"target\"></a>"
   ]
  },
  {
   "cell_type": "code",
   "execution_count": 4,
   "id": "3feed0a7",
   "metadata": {
    "scrolled": true
   },
   "outputs": [
    {
     "name": "stdout",
     "output_type": "stream",
     "text": [
      "4.9.0\n"
     ]
    },
    {
     "data": {
      "text/plain": [
       "True"
      ]
     },
     "execution_count": 4,
     "metadata": {},
     "output_type": "execute_result"
    }
   ],
   "source": [
    "import cv2\n",
    "print(cv2.__version__)\n",
    "\n",
    "img=cv2.imread('data/kris.jpg',0)\n",
    "cv2.imshow('Image', img)\n",
    "\n",
    "# Wait for any key to be pressed indefinitely\n",
    "cv2.waitKey(0) & 0xFF\n",
    "# Close all OpenCV windows\n",
    "cv2.destroyAllWindows()\n",
    "\n",
    "#save new copys\n",
    "cv2.imwrite('data/kris_copy.png',img)"
   ]
  },
  {
   "cell_type": "markdown",
   "id": "11b1bc78",
   "metadata": {},
   "source": [
    "<a id=\"targetss\"></a>"
   ]
  },
  {
   "cell_type": "markdown",
   "id": "09f2f96d",
   "metadata": {},
   "source": [
    "#### to close if escape pressed and to save if 's' pressed"
   ]
  },
  {
   "cell_type": "code",
   "execution_count": 5,
   "id": "a71c780c",
   "metadata": {},
   "outputs": [],
   "source": [
    "img=cv2.imread('data/kris.jpg',0)\n",
    "cv2.imshow('Image', img)\n",
    "k=cv2.waitKey(0) & 0xFF\n",
    "if k==27:\n",
    "    cv2.destroyAllWindows()\n",
    "elif k==ord('s'):\n",
    "    cv2.imwrite('data/kris_copy.png',img)\n",
    "    cv2.destroyAllWindows()\n",
    "    \n",
    "    \n",
    "\n",
    "\n",
    "#save new copys\n"
   ]
  },
  {
   "cell_type": "code",
   "execution_count": null,
   "id": "618aabcd",
   "metadata": {},
   "outputs": [],
   "source": []
  },
  {
   "cell_type": "code",
   "execution_count": null,
   "id": "881669d7",
   "metadata": {},
   "outputs": [],
   "source": []
  },
  {
   "cell_type": "code",
   "execution_count": null,
   "id": "d78b4224",
   "metadata": {},
   "outputs": [],
   "source": []
  },
  {
   "cell_type": "code",
   "execution_count": null,
   "id": "545ef2ff",
   "metadata": {},
   "outputs": [],
   "source": []
  },
  {
   "cell_type": "code",
   "execution_count": null,
   "id": "9257874d",
   "metadata": {},
   "outputs": [],
   "source": []
  },
  {
   "cell_type": "code",
   "execution_count": null,
   "id": "a08fdfd2",
   "metadata": {},
   "outputs": [],
   "source": []
  },
  {
   "cell_type": "code",
   "execution_count": null,
   "id": "01f50f41",
   "metadata": {},
   "outputs": [],
   "source": []
  },
  {
   "cell_type": "code",
   "execution_count": null,
   "id": "5669eb8e",
   "metadata": {},
   "outputs": [],
   "source": []
  },
  {
   "cell_type": "code",
   "execution_count": null,
   "id": "cf060ca8",
   "metadata": {},
   "outputs": [],
   "source": []
  },
  {
   "cell_type": "code",
   "execution_count": null,
   "id": "1e95d095",
   "metadata": {},
   "outputs": [],
   "source": []
  },
  {
   "cell_type": "code",
   "execution_count": null,
   "id": "73327d7e",
   "metadata": {},
   "outputs": [],
   "source": []
  },
  {
   "cell_type": "code",
   "execution_count": null,
   "id": "fdbe70f6",
   "metadata": {},
   "outputs": [],
   "source": []
  },
  {
   "cell_type": "code",
   "execution_count": null,
   "id": "c0a91606",
   "metadata": {},
   "outputs": [],
   "source": []
  },
  {
   "cell_type": "code",
   "execution_count": null,
   "id": "8286ee29",
   "metadata": {},
   "outputs": [],
   "source": []
  }
 ],
 "metadata": {
  "kernelspec": {
   "display_name": "Python 3 (ipykernel)",
   "language": "python",
   "name": "python3"
  },
  "language_info": {
   "codemirror_mode": {
    "name": "ipython",
    "version": 3
   },
   "file_extension": ".py",
   "mimetype": "text/x-python",
   "name": "python",
   "nbconvert_exporter": "python",
   "pygments_lexer": "ipython3",
   "version": "3.10.9"
  }
 },
 "nbformat": 4,
 "nbformat_minor": 5
}
